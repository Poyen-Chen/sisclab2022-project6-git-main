{
 "cells": [
  {
   "cell_type": "markdown",
   "id": "ab201cf7",
   "metadata": {},
   "source": [
    "# Implementation of the hands-on example from the section “Predicting Atomization Energies” in the paper Rupp2015."
   ]
  },
  {
   "cell_type": "markdown",
   "id": "f360b868",
   "metadata": {},
   "source": [
    "## Load data"
   ]
  },
  {
   "cell_type": "code",
   "execution_count": 7,
   "id": "3545a1f2",
   "metadata": {},
   "outputs": [
    {
     "name": "stdout",
     "output_type": "stream",
     "text": [
      " 1 non-H atoms:1\n",
      " 2 non-H atoms:3\n",
      " 3 non-H atoms:12\n",
      " 4 non-H atoms:43\n",
      " 5 non-H atoms:157\n",
      " 6 non-H atoms:935\n",
      " 7 non-H atoms:5951\n"
     ]
    }
   ],
   "source": [
    "import numpy as np\n",
    "from ase.io import read\n",
    "\n",
    "# Load the molecular structures and atomization energies from the file dsgdb7ae2.xyz.\n",
    "species = read(\"dsgdb7ae2.xyz\", index=\":\")\n",
    "\n",
    "# Count the non-H atoms in each molecule to reproduce Table 3.\n",
    "count = []\n",
    "for i in range (len(species)):\n",
    "    atoms = species[i]\n",
    "    #print(atoms.symbols)\n",
    "    del atoms[[atom.index for atom in atoms if atom.symbol=='H']]\n",
    "    count.append(len(atoms))   \n",
    "#print(count)\n",
    "\n",
    "i=0\n",
    "while count[i] < 1: #zero H\n",
    "    i += 1\n",
    "    a = i\n",
    "    a = 0\n",
    "#print(a) \n",
    "\n",
    "while count[i] < 2: #less than one H\n",
    "    i += 1\n",
    "    b = i\n",
    "#print(b) \n",
    "\n",
    "while count[i] < 3: #less than two H\n",
    "    i += 1\n",
    "    c = i\n",
    "#print(c) \n",
    "    \n",
    "while count[i] < 4: #less than three H\n",
    "    i += 1\n",
    "    d = i\n",
    "#print(d) \n",
    "\n",
    "while count[i] < 5: #less than four H\n",
    "    i += 1\n",
    "    e = i\n",
    "#print(e) \n",
    "\n",
    "while count[i] < 6: #less than five H\n",
    "    i += 1\n",
    "    f = i\n",
    "#print(f) \n",
    "\n",
    "while count[i] < 7: #less than six H\n",
    "    i += 1\n",
    "    g = i\n",
    "#print(i) \n",
    "\n",
    "i = len(species) #less than seven H\n",
    "h = i\n",
    "#print(h) \n",
    " \n",
    "print(\" 1 non-H atoms:\" + str(b-0) + \"\\n\", \"2 non-H atoms:\" + str(c-b) + \"\\n\", \"3 non-H atoms:\" + str(d-c)+ \"\\n\", \n",
    "      \"4 non-H atoms:\" + str(e-d)+ \"\\n\", \"5 non-H atoms:\" + str(f-e)+ \"\\n\", \"6 non-H atoms:\" + str(g-f) + \"\\n\",\n",
    "      \"7 non-H atoms:\" + str(h-g))"
   ]
  },
  {
   "cell_type": "code",
   "execution_count": 8,
   "id": "d6e03408",
   "metadata": {},
   "outputs": [],
   "source": []
  },
  {
   "cell_type": "code",
   "execution_count": null,
   "id": "e13527f7",
   "metadata": {},
   "outputs": [],
   "source": [
    "# Create a training set and the prediction set\n",
    "# Select all k molecules with four or fewer non-H atoms. \n",
    "# Assign selected molecules to the training set, and all others to the prediction set.\n",
    "\n",
    "#k_train = 40\n",
    "#split = (len(species) - k_train)/(1000 - k_train)\n",
    "#PredictionSet_idx = np.linspace(41, len(species), round(split)).astype(int)\n",
    "#print(PredictionSet_idx)\n",
    "\n"
   ]
  },
  {
   "cell_type": "code",
   "execution_count": null,
   "id": "b87f5f92",
   "metadata": {},
   "outputs": [],
   "source": [
    "# Create a hold-out set (unfinished)\n",
    "# From the training set, select 100 molecules with five or more non-H atoms, stratified by number of atoms, and assign them to the hold-out set.\n",
    "\n",
    "#k_holdout = 100\n",
    "\n",
    "\n",
    "\n",
    "\n"
   ]
  },
  {
   "cell_type": "markdown",
   "id": "bac63f34",
   "metadata": {},
   "source": [
    "## Use dscribe's implementation of Coulomb matrix (CM)"
   ]
  },
  {
   "cell_type": "code",
   "execution_count": 71,
   "id": "6e58d4b7",
   "metadata": {},
   "outputs": [],
   "source": [
    "from dscribe.descriptors import CoulombMatrix\n",
    "\n",
    "# Setting up the CM descriptor\n",
    "cm = CoulombMatrix(\n",
    "    n_atoms_max=23,\n",
    "    permutation='sorted_l2'\n",
    ")"
   ]
  },
  {
   "cell_type": "code",
   "execution_count": 72,
   "id": "9277db4b",
   "metadata": {},
   "outputs": [
    {
     "name": "stdout",
     "output_type": "stream",
     "text": [
      "Atoms(symbols='C2H6', pbc=False)\n"
     ]
    }
   ],
   "source": [
    "from ase.build import molecule\n",
    "from ase import Atoms\n",
    "\n",
    "# Molecule created as an ASE.Atoms\n",
    "species = read(\"dsgdb7ae2.xyz\", index=\":\")\n",
    "\n",
    "samples = []\n",
    "for i in range (len(species)):\n",
    "    atoms = species[i]\n",
    "    #print(atoms.symbols)\n",
    "    samples.append(atoms)   \n",
    "print(samples[1])\n"
   ]
  },
  {
   "cell_type": "code",
   "execution_count": 73,
   "id": "b8707dd6",
   "metadata": {},
   "outputs": [
    {
     "name": "stdout",
     "output_type": "stream",
     "text": [
      "[[ 36.8581052    5.40834831   5.40832102 ...   0.           0.\n",
      "    0.        ]\n",
      " [ 36.8581052   23.69699443   2.77198579 ...   0.           0.\n",
      "    0.        ]\n",
      " [ 36.8581052   27.04631682   5.52875441 ...   0.           0.\n",
      "    0.        ]\n",
      " ...\n",
      " [388.02344103  66.85246943  44.96901484 ...   0.           0.\n",
      "    0.        ]\n",
      " [388.02344103  66.66939757  45.19845041 ...   0.           0.\n",
      "    0.        ]\n",
      " [388.02344103  66.66601077  45.10724451 ...   0.           0.\n",
      "    0.        ]]\n",
      "flattened (7102, 529)\n"
     ]
    }
   ],
   "source": [
    "# Create output for multiple system\n",
    "\n",
    "coulomb_matrices = cm.create(samples, n_jobs=2)  # Parallel\n",
    "print(coulomb_matrices)\n",
    "print(\"flattened\", coulomb_matrices.shape)"
   ]
  },
  {
   "cell_type": "markdown",
   "id": "7b45f6be",
   "metadata": {},
   "source": [
    "## Visualize data"
   ]
  },
  {
   "cell_type": "code",
   "execution_count": 15,
   "id": "55b0784a",
   "metadata": {},
   "outputs": [],
   "source": [
    "# set CoulombMatrix as features\n",
    "x = coulomb_matrices\n",
    "\n",
    "# set energies as target labels\n",
    "\n",
    "data_total_energies = [float(list(molecule.info)[1]) for molecule in species]\n",
    "#print(data_total_energies)\n",
    "y = data_total_energies\n",
    "\n",
    "#print(len(y))"
   ]
  },
  {
   "cell_type": "code",
   "execution_count": 17,
   "id": "bf5ce7ee",
   "metadata": {},
   "outputs": [
    {
     "name": "stdout",
     "output_type": "stream",
     "text": [
      "[73.51669472 19.38447794 13.06706876 19.65362436 34.19934847 16.45907741\n",
      " 12.73132159  8.06456914  2.065157    2.5216396   1.79211069  3.09919978\n",
      "  3.91825396  3.86873226  2.46745442  1.64575051  1.73074241  1.96677358\n",
      "  1.96634919  0.          0.          0.          0.         19.38447794\n",
      " 53.3587074  16.44828878 28.55840287 17.08579404 16.90728902 17.02741923\n",
      "  2.60983158  6.69773258  6.68787656  2.56513908  2.54242796  2.04374473\n",
      "  2.55034446  2.03814886  1.77341783  2.55356912  2.0376054   2.56602925\n",
      "  0.          0.          0.          0.         13.06706876 16.44828878\n",
      " 53.3587074  16.73478929 10.92263294 28.72173793 14.05348541  1.49921475\n",
      "  2.59022486  1.77130954  6.70048017  3.32302938  1.69569967  1.48955451\n",
      "  3.33722591  6.69446554  2.62254174  2.09835784  1.74446417  0.\n",
      "  0.          0.          0.         19.65362436 28.55840287 16.73478929\n",
      " 36.8581052  23.23424809 23.15730134 23.30991392  2.17850147  2.87669469\n",
      "  2.88959603  2.13680094  2.72126459  2.73261126  2.71534948  2.74692925\n",
      "  1.76350888  2.7263811   2.72881202  2.73176014  0.          0.\n",
      "  0.          0.         34.19934847 17.08579404 10.92263294 23.23424809\n",
      " 36.8581052  14.24977658 14.31913605  3.09315258  1.77300725  2.27571487\n",
      "  1.43082416  2.16744638  5.39802856  5.38226519  2.19352938  1.31316176\n",
      "  1.71652548  2.16921326  2.17542745  0.          0.          0.\n",
      "  0.         16.45907741 16.90728902 28.72173793 23.15730134 14.24977658\n",
      " 36.8581052  14.17476063  1.7370394   2.1741958   1.7642227   2.91056238\n",
      "  5.39137774  2.16497523  1.70899765  5.39119424  2.93085999  2.13766927\n",
      "  2.1549511   1.70776677  0.          0.          0.          0.\n",
      " 12.73132159 17.02741923 14.05348541 23.30991392 14.31913605 14.17476063\n",
      " 36.8581052   1.46446875  2.26110199  2.22185771  1.73241137  1.70862202\n",
      "  2.1813457   2.17928405  2.16394239  1.54184186  5.40186678  5.39844051\n",
      "  5.39917963  0.          0.          0.          0.          8.06456914\n",
      "  2.60983158  1.49921475  2.17850147  3.09315258  1.7370394   1.46446875\n",
      "  0.5         0.27081327  0.360655    0.21553793  0.32537647  0.35271597\n",
      "  0.45378772  0.24994452  0.18740237  0.20488412  0.21716527  0.23659403\n",
      "  0.          0.          0.          0.          2.065157    6.69773258\n",
      "  2.59022486  2.87669469  1.77300725  2.1741958   2.26110199  0.27081327\n",
      "  0.5         0.59561331  0.44586149  0.31697951  0.23564383  0.27160827\n",
      "  0.26577293  0.27047873  0.40303275  0.27132499  0.33420848  0.\n",
      "  0.          0.          0.          2.5216396   6.68787656  1.77130954\n",
      "  2.88959603  2.27571487  1.7642227   2.22185771  0.360655    0.59561331\n",
      "  0.5         0.26877797  0.27052713  0.27338259  0.40442234  0.23620625\n",
      "  0.2020916   0.32354094  0.2694812   0.39749872  0.          0.\n",
      "  0.          0.          1.79211069  2.56513908  6.70048017  2.13680094\n",
      "  1.43082416  2.91056238  1.73241137  0.21553793  0.44586149  0.26877797\n",
      "  0.5         0.42508882  0.21258958  0.20155238  0.33713242  0.59671432\n",
      "  0.32690895  0.24635302  0.23044213  0.          0.          0.\n",
      "  0.          3.09919978  2.54242796  3.32302938  2.72126459  2.16744638\n",
      "  5.39137774  1.70862202  0.32537647  0.31697951  0.27052713  0.42508882\n",
      "  0.5         0.32019772  0.26263305  0.55673017  0.41532127  0.26097276\n",
      "  0.26302959  0.22878707  0.          0.          0.          0.\n",
      "  3.91825396  2.04374473  1.69569967  2.73261126  5.39802856  2.16497523\n",
      "  2.1813457   0.35271597  0.23564383  0.27338259  0.21258958  0.32019772\n",
      "  0.5         0.56181857  0.39819756  0.21270145  0.26456943  0.39450306\n",
      "  0.32255853  0.          0.          0.          0.          3.86873226\n",
      "  2.55034446  1.48955451  2.71534948  5.38226519  1.70899765  2.17928405\n",
      "  0.45378772  0.27160827  0.40442234  0.20155238  0.26263305  0.56181857\n",
      "  0.5         0.26622015  0.18116136  0.26445972  0.32243169  0.39559466\n",
      "  0.          0.          0.          0.          2.46745442  2.03814886\n",
      "  3.33722591  2.74692925  2.19352938  5.39119424  2.16394239  0.24994452\n",
      "  0.26577293  0.23620625  0.33713242  0.55673017  0.39819756  0.26622015\n",
      "  0.5         0.42927304  0.3163822   0.39167824  0.26411127  0.\n",
      "  0.          0.          0.          1.64575051  1.77341783  6.69446554\n",
      "  1.76350888  1.31316176  2.93085999  1.54184186  0.18740237  0.27047873\n",
      "  0.2020916   0.59671432  0.41532127  0.21270145  0.18116136  0.42927304\n",
      "  0.5         0.27941729  0.24771882  0.2015684   0.          0.\n",
      "  0.          0.          1.73074241  2.55356912  2.62254174  2.7263811\n",
      "  1.71652548  2.13766927  5.40186678  0.20488412  0.40303275  0.32354094\n",
      "  0.32690895  0.26097276  0.26456943  0.26445972  0.3163822   0.27941729\n",
      "  0.5         0.55512392  0.55654018  0.          0.          0.\n",
      "  0.          1.96677358  2.0376054   2.09835784  2.72881202  2.16921326\n",
      "  2.1549511   5.39844051  0.21716527  0.27132499  0.2694812   0.24635302\n",
      "  0.26302959  0.39450306  0.32243169  0.39167824  0.24771882  0.55512392\n",
      "  0.5         0.55489673  0.          0.          0.          0.\n",
      "  1.96634919  2.56602925  1.74446417  2.73176014  2.17542745  1.70776677\n",
      "  5.39917963  0.23659403  0.33420848  0.39749872  0.23044213  0.22878707\n",
      "  0.32255853  0.39559466  0.26411127  0.2015684   0.55654018  0.55489673\n",
      "  0.5         0.          0.          0.          0.          0.\n",
      "  0.          0.          0.          0.          0.          0.\n",
      "  0.          0.          0.          0.          0.          0.\n",
      "  0.          0.          0.          0.          0.          0.\n",
      "  0.          0.          0.          0.          0.          0.\n",
      "  0.          0.          0.          0.          0.          0.\n",
      "  0.          0.          0.          0.          0.          0.\n",
      "  0.          0.          0.          0.          0.          0.\n",
      "  0.          0.          0.          0.          0.          0.\n",
      "  0.          0.          0.          0.          0.          0.\n",
      "  0.          0.          0.          0.          0.          0.\n",
      "  0.          0.          0.          0.          0.          0.\n",
      "  0.          0.          0.          0.          0.          0.\n",
      "  0.          0.          0.          0.          0.          0.\n",
      "  0.          0.          0.          0.          0.          0.\n",
      "  0.          0.          0.          0.          0.          0.\n",
      "  0.        ]\n"
     ]
    }
   ],
   "source": [
    "import math, random\n",
    "\n",
    "rand_mol = random.randint(0, len(y))\n",
    "print(x[rand_mol].)"
   ]
  },
  {
   "cell_type": "code",
   "execution_count": 19,
   "id": "61377f11",
   "metadata": {},
   "outputs": [
    {
     "data": {
      "text/plain": [
       "<Figure size 432x288 with 0 Axes>"
      ]
     },
     "metadata": {},
     "output_type": "display_data"
    },
    {
     "data": {
      "image/png": "[encoded data removed]",
      "text/plain": [
       "<Figure size 432x432 with 2 Axes>"
      ]
     },
     "metadata": {
      "needs_background": "light"
     },
     "output_type": "display_data"
    }
   ],
   "source": [
    "# Visualize the Coulomb matrix of the random molecule.\n",
    "\n",
    "import matplotlib.pyplot as plt\n",
    "\n",
    "shape = (23, 23)\n",
    "mat = x[rand_mol].reshape(shape)\n",
    "\n",
    "plt.figure()\n",
    "plt.figure(figsize = (6,6))\n",
    "plt.imshow(mat, origin=\"upper\", cmap='rainbow', vmin=-15, vmax=90, interpolation='nearest')\n",
    "plt.colorbar(fraction=0.046, pad=0.04).ax.tick_params(labelsize=20)\n",
    "plt.axis('off')\n",
    "plt.show()"
   ]
  },
  {
   "cell_type": "code",
   "execution_count": 26,
   "id": "13b71702",
   "metadata": {},
   "outputs": [
    {
     "data": {
      "image/png": "[encoded data removed]",
      "text/plain": [
       "<Figure size 432x288 with 1 Axes>"
      ]
     },
     "metadata": {
      "needs_background": "light"
     },
     "output_type": "display_data"
    },
    {
     "name": "stdout",
     "output_type": "stream",
     "text": [
      "Mean value of HOMO energies in QM7 dataset: -1536.32 eV\n"
     ]
    }
   ],
   "source": [
    "# Visualize the target data by plotting the distribution of HOMO energies in the dataset.\n",
    "\n",
    "plt.hist(y, bins=20, density=False, facecolor='blue')\n",
    "plt.xlabel(\"Energy [eV]\")\n",
    "plt.ylabel(\"Number of molecules\")\n",
    "plt.title(\"Distribution of HOMO energies\")\n",
    "plt.show()\n",
    "\n",
    "## mean value of distribution\n",
    "print(\"Mean value of HOMO energies in QM7 dataset: %0.2f eV\" %np.mean(y))"
   ]
  },
  {
   "cell_type": "markdown",
   "id": "f0ddee38",
   "metadata": {},
   "source": [
    "## Setting data"
   ]
  },
  {
   "cell_type": "code",
   "execution_count": 60,
   "id": "a55eea77",
   "metadata": {},
   "outputs": [],
   "source": [
    "## shuffle the data\n",
    "\n",
    "c = list(zip(x, y))\n",
    "random.shuffle(c)\n",
    "\n",
    "x, y = zip(*c)\n",
    "\n",
    "x = np.array(x)\n",
    "y = np.array(y)\n"
   ]
  },
  {
   "cell_type": "code",
   "execution_count": 74,
   "id": "de2bd35d",
   "metadata": {},
   "outputs": [],
   "source": [
    "# decide how many samples to take from the database for training and testing\n",
    "n_train = 6000\n",
    "n_test = 1000\n",
    "\n",
    "# split data in training and test\n",
    "# take first n_train molecules for training\n",
    "x_train  = x[0:n_train] \n",
    "y_train = y[0:n_train]\n",
    "\n",
    "# take the next n_test data for testing\n",
    "x_test = x[n_train:n_train + n_test]\n",
    "y_test = y[n_train:n_train + n_test]"
   ]
  },
  {
   "cell_type": "code",
   "execution_count": 75,
   "id": "f732bf8d",
   "metadata": {},
   "outputs": [
    {
     "data": {
      "image/png": "[encoded data removed]",
      "text/plain": [
       "<Figure size 432x288 with 1 Axes>"
      ]
     },
     "metadata": {
      "needs_background": "light"
     },
     "output_type": "display_data"
    },
    {
     "name": "stdout",
     "output_type": "stream",
     "text": [
      "Mean value of HOMO energies in training set: -1535.82 eV\n",
      "Mean value of HOMO energies in test set: -1536.80 eV\n"
     ]
    }
   ],
   "source": [
    "plt.hist(y_test, bins=20, density=False, alpha=0.5, facecolor='red', label='test set')\n",
    "plt.hist(y_train, bins=20, density=False, alpha=0.5, facecolor='gray', label='training set')\n",
    "plt.xlabel(\"Energy [eV]\")\n",
    "plt.ylabel(\"Number of molecules\")\n",
    "plt.legend()\n",
    "plt.show()\n",
    "\n",
    "## mean value of distributions\n",
    "print(\"Mean value of HOMO energies in training set: %0.2f eV\" %np.mean(y_train))\n",
    "print(\"Mean value of HOMO energies in test set: %0.2f eV\" %np.mean(y_test))"
   ]
  },
  {
   "cell_type": "markdown",
   "id": "3f05e664",
   "metadata": {},
   "source": [
    "## Use sklearn's implementation of kernel ridge regression (KRR) model "
   ]
  },
  {
   "cell_type": "code",
   "execution_count": 52,
   "id": "6e33f56b",
   "metadata": {},
   "outputs": [
    {
     "name": "stdout",
     "output_type": "stream",
     "text": [
      "Fitting 3 folds for each of 9 candidates, totalling 27 fits\n",
      "[CV 1/3; 1/9] START alpha=0.0001, gamma=0.0001, kernel=rbf......................\n",
      "[CV 1/3; 1/9] END alpha=0.0001, gamma=0.0001, kernel=rbf;, score=-9.623 total time=   1.6s\n",
      "[CV 2/3; 1/9] START alpha=0.0001, gamma=0.0001, kernel=rbf......................\n",
      "[CV 2/3; 1/9] END alpha=0.0001, gamma=0.0001, kernel=rbf;, score=-9.844 total time=   1.5s\n",
      "[CV 3/3; 1/9] START alpha=0.0001, gamma=0.0001, kernel=rbf......................\n",
      "[CV 3/3; 1/9] END alpha=0.0001, gamma=0.0001, kernel=rbf;, score=-9.866 total time=   1.5s\n",
      "[CV 1/3; 2/9] START alpha=0.0001, gamma=0.001, kernel=rbf.......................\n",
      "[CV 1/3; 2/9] END alpha=0.0001, gamma=0.001, kernel=rbf;, score=-128.803 total time=   1.5s\n",
      "[CV 2/3; 2/9] START alpha=0.0001, gamma=0.001, kernel=rbf.......................\n",
      "[CV 2/3; 2/9] END alpha=0.0001, gamma=0.001, kernel=rbf;, score=-127.063 total time=   1.5s\n",
      "[CV 3/3; 2/9] START alpha=0.0001, gamma=0.001, kernel=rbf.......................\n",
      "[CV 3/3; 2/9] END alpha=0.0001, gamma=0.001, kernel=rbf;, score=-134.789 total time=   1.5s\n",
      "[CV 1/3; 3/9] START alpha=0.0001, gamma=0.01, kernel=rbf........................\n",
      "[CV 1/3; 3/9] END alpha=0.0001, gamma=0.01, kernel=rbf;, score=-1502.152 total time=   1.4s\n",
      "[CV 2/3; 3/9] START alpha=0.0001, gamma=0.01, kernel=rbf........................\n",
      "[CV 2/3; 3/9] END alpha=0.0001, gamma=0.01, kernel=rbf;, score=-1505.677 total time=   1.6s\n",
      "[CV 3/3; 3/9] START alpha=0.0001, gamma=0.01, kernel=rbf........................\n",
      "[CV 3/3; 3/9] END alpha=0.0001, gamma=0.01, kernel=rbf;, score=-1507.999 total time=   1.5s\n",
      "[CV 1/3; 4/9] START alpha=0.001, gamma=0.0001, kernel=rbf.......................\n",
      "[CV 1/3; 4/9] END alpha=0.001, gamma=0.0001, kernel=rbf;, score=-9.595 total time=   1.5s\n",
      "[CV 2/3; 4/9] START alpha=0.001, gamma=0.0001, kernel=rbf.......................\n",
      "[CV 2/3; 4/9] END alpha=0.001, gamma=0.0001, kernel=rbf;, score=-9.789 total time=   1.6s\n",
      "[CV 3/3; 4/9] START alpha=0.001, gamma=0.0001, kernel=rbf.......................\n",
      "[CV 3/3; 4/9] END alpha=0.001, gamma=0.0001, kernel=rbf;, score=-9.862 total time=   1.7s\n",
      "[CV 1/3; 5/9] START alpha=0.001, gamma=0.001, kernel=rbf........................\n",
      "[CV 1/3; 5/9] END alpha=0.001, gamma=0.001, kernel=rbf;, score=-128.882 total time=   1.9s\n",
      "[CV 2/3; 5/9] START alpha=0.001, gamma=0.001, kernel=rbf........................\n",
      "[CV 2/3; 5/9] END alpha=0.001, gamma=0.001, kernel=rbf;, score=-127.152 total time=   1.9s\n",
      "[CV 3/3; 5/9] START alpha=0.001, gamma=0.001, kernel=rbf........................\n",
      "[CV 3/3; 5/9] END alpha=0.001, gamma=0.001, kernel=rbf;, score=-134.874 total time=   1.8s\n",
      "[CV 1/3; 6/9] START alpha=0.001, gamma=0.01, kernel=rbf.........................\n",
      "[CV 1/3; 6/9] END alpha=0.001, gamma=0.01, kernel=rbf;, score=-1502.180 total time=   1.6s\n",
      "[CV 2/3; 6/9] START alpha=0.001, gamma=0.01, kernel=rbf.........................\n",
      "[CV 2/3; 6/9] END alpha=0.001, gamma=0.01, kernel=rbf;, score=-1505.703 total time=   1.6s\n",
      "[CV 3/3; 6/9] START alpha=0.001, gamma=0.01, kernel=rbf.........................\n",
      "[CV 3/3; 6/9] END alpha=0.001, gamma=0.01, kernel=rbf;, score=-1508.026 total time=   1.8s\n",
      "[CV 1/3; 7/9] START alpha=0.01, gamma=0.0001, kernel=rbf........................\n",
      "[CV 1/3; 7/9] END alpha=0.01, gamma=0.0001, kernel=rbf;, score=-10.703 total time=   2.3s\n",
      "[CV 2/3; 7/9] START alpha=0.01, gamma=0.0001, kernel=rbf........................\n",
      "[CV 2/3; 7/9] END alpha=0.01, gamma=0.0001, kernel=rbf;, score=-10.791 total time=   2.2s\n",
      "[CV 3/3; 7/9] START alpha=0.01, gamma=0.0001, kernel=rbf........................\n",
      "[CV 3/3; 7/9] END alpha=0.01, gamma=0.0001, kernel=rbf;, score=-10.953 total time=   2.3s\n",
      "[CV 1/3; 8/9] START alpha=0.01, gamma=0.001, kernel=rbf.........................\n",
      "[CV 1/3; 8/9] END alpha=0.01, gamma=0.001, kernel=rbf;, score=-129.674 total time=   1.8s\n",
      "[CV 2/3; 8/9] START alpha=0.01, gamma=0.001, kernel=rbf.........................\n",
      "[CV 2/3; 8/9] END alpha=0.01, gamma=0.001, kernel=rbf;, score=-128.029 total time=   1.7s\n",
      "[CV 3/3; 8/9] START alpha=0.01, gamma=0.001, kernel=rbf.........................\n",
      "[CV 3/3; 8/9] END alpha=0.01, gamma=0.001, kernel=rbf;, score=-135.704 total time=   1.9s\n",
      "[CV 1/3; 9/9] START alpha=0.01, gamma=0.01, kernel=rbf..........................\n",
      "[CV 1/3; 9/9] END alpha=0.01, gamma=0.01, kernel=rbf;, score=-1502.451 total time=   1.6s\n",
      "[CV 2/3; 9/9] START alpha=0.01, gamma=0.01, kernel=rbf..........................\n",
      "[CV 2/3; 9/9] END alpha=0.01, gamma=0.01, kernel=rbf;, score=-1505.958 total time=   1.5s\n",
      "[CV 3/3; 9/9] START alpha=0.01, gamma=0.01, kernel=rbf..........................\n",
      "[CV 3/3; 9/9] END alpha=0.01, gamma=0.01, kernel=rbf;, score=-1508.288 total time=   1.6s\n"
     ]
    },
    {
     "data": {
      "text/plain": [
       "GridSearchCV(cv=3, estimator=KernelRidge(),\n",
       "             param_grid=[{'alpha': array([0.0001, 0.001 , 0.01  ]),\n",
       "                          'gamma': array([0.0001, 0.001 , 0.01  ]),\n",
       "                          'kernel': ['rbf']}],\n",
       "             scoring='neg_mean_absolute_error', verbose=1000)"
      ]
     },
     "execution_count": 52,
     "metadata": {},
     "output_type": "execute_result"
    }
   ],
   "source": [
    "from sklearn.model_selection import GridSearchCV\n",
    "from sklearn.kernel_ridge import KernelRidge\n",
    "from sklearn.metrics import r2_score\n",
    "\n",
    "# set up grids for alpha and gamma hyperparameters. \n",
    "# first value: lower bound; second value: upper bound; \n",
    "# third value: number of points to evaluate (here set to '3' --> '-2', '-1' and '0' are evaluated)\n",
    "# --> make sure to change third value as well when changing the bounds!\n",
    "alpha = np.logspace(-4, -2, 3)\n",
    "gamma = np.logspace(-4, -2, 3)\n",
    "\n",
    "cv_number = 3 ## choose into how many parts training set is divided for cross-validation\n",
    "kernel = 'rbf' # select kernel function here ('rbf': Gaussian kernel, 'laplacian': Laplacian kernel)\n",
    "scoring_function = 'neg_mean_absolute_error' # it is called \"negative\" because scikit-learn interprets\n",
    "                                             # highest scoring value as best, but we want small errors\n",
    "\n",
    "## define settings for grid search routine in scikit-learn with above defined grids as input\n",
    "\n",
    "grid_search = GridSearchCV(KernelRidge(),  #machine learning method (KRR here)\n",
    "                           [{'kernel':[kernel],'alpha': alpha, 'gamma': gamma}], \n",
    "                           cv = cv_number, \n",
    "                           scoring = scoring_function,\n",
    "                           verbose=1000)  ## produces detailed output statements of grid search \n",
    "                                          # routine so we can see what is computed\n",
    "    \n",
    "# call the fit function in scikit-learn which fits the Coulomb matrices in the training set \n",
    "# to their corresponding HOMO energies.\n",
    "grid_search.fit(x_train, y_train)"
   ]
  },
  {
   "cell_type": "code",
   "execution_count": 53,
   "id": "e23077f5",
   "metadata": {},
   "outputs": [
    {
     "name": "stdout",
     "output_type": "stream",
     "text": [
      "9.778 (+/-0.220) for {'alpha': 0.0001, 'gamma': 0.0001, 'kernel': 'rbf'}\n",
      "130.218 (+/-6.618) for {'alpha': 0.0001, 'gamma': 0.001, 'kernel': 'rbf'}\n",
      "1505.276 (+/-4.808) for {'alpha': 0.0001, 'gamma': 0.01, 'kernel': 'rbf'}\n",
      "9.749 (+/-0.225) for {'alpha': 0.001, 'gamma': 0.0001, 'kernel': 'rbf'}\n",
      "130.303 (+/-6.617) for {'alpha': 0.001, 'gamma': 0.001, 'kernel': 'rbf'}\n",
      "1505.303 (+/-4.807) for {'alpha': 0.001, 'gamma': 0.01, 'kernel': 'rbf'}\n",
      "10.816 (+/-0.208) for {'alpha': 0.01, 'gamma': 0.0001, 'kernel': 'rbf'}\n",
      "131.136 (+/-6.599) for {'alpha': 0.01, 'gamma': 0.001, 'kernel': 'rbf'}\n",
      "1505.566 (+/-4.798) for {'alpha': 0.01, 'gamma': 0.01, 'kernel': 'rbf'}\n"
     ]
    }
   ],
   "source": [
    "means = grid_search.cv_results_['mean_test_score']\n",
    "stds = grid_search.cv_results_['std_test_score']\n",
    "for mean, std, params in zip(-means, stds, grid_search.cv_results_['params']):\n",
    "    print(\"%0.3f (+/-%0.03f) for %r\" % (mean, std * 2, params))"
   ]
  },
  {
   "cell_type": "code",
   "execution_count": 54,
   "id": "ab7da25b",
   "metadata": {},
   "outputs": [
    {
     "data": {
      "image/png": "[encoded data removed]",
      "text/plain": [
       "<Figure size 432x288 with 2 Axes>"
      ]
     },
     "metadata": {
      "needs_background": "light"
     },
     "output_type": "display_data"
    },
    {
     "name": "stdout",
     "output_type": "stream",
     "text": [
      "The best combinations of parameters are {'alpha': 0.001, 'gamma': 0.0001, 'kernel': 'rbf'} with a score of 9.749 eV on the validation set.\n"
     ]
    }
   ],
   "source": [
    "import pandas as pd\n",
    "import seaborn as sns\n",
    "\n",
    "results = pd.DataFrame(grid_search.cv_results_)\n",
    "#pd.DataFrame(grid_search.cv_results_)\n",
    "\n",
    "pvt = pd.pivot_table(results, values='mean_test_score', \n",
    "                     index='param_gamma', columns='param_alpha')\n",
    "heatmap = sns.heatmap(-pvt, annot=True, cmap='viridis', cbar_kws={'label': \"Mean absolute error [eV]\"})\n",
    "figure = heatmap.get_figure()\n",
    "plt.show()\n",
    "\n",
    "\n",
    "print(\"The best combinations of parameters are %s with a score of %0.3f eV on the validation set.\"\n",
    "      % (grid_search.best_params_, -grid_search.best_score_))"
   ]
  },
  {
   "cell_type": "code",
   "execution_count": 55,
   "id": "0040de6a",
   "metadata": {},
   "outputs": [
    {
     "name": "stdout",
     "output_type": "stream",
     "text": [
      "Mean absolute error on test set: 8.715 eV\n"
     ]
    },
    {
     "data": {
      "image/png": "[encoded data removed]",
      "text/plain": [
       "<Figure size 432x288 with 1 Axes>"
      ]
     },
     "metadata": {
      "needs_background": "light"
     },
     "output_type": "display_data"
    },
    {
     "name": "stdout",
     "output_type": "stream",
     "text": [
      "R^2 score on test set: 0.997\n"
     ]
    }
   ],
   "source": [
    "# predicted HOMO energies for all test molecules\n",
    "\n",
    "y_pred = grid_search.predict(x_test) # scikit-learn automatically takes the best combination\n",
    "                                     # of hyperparameters from grid search\n",
    "\n",
    "print(\"Mean absolute error on test set: %0.3f eV\" %(np.abs(y_pred-y_test)).mean())\n",
    "\n",
    "# do the regression plot\n",
    "plt.plot(y_test, y_pred, 'o')\n",
    "plt.plot([np.min(y_test),np.max(y_test)], [np.min(y_test),np.max(y_test)], '-')\n",
    "plt.xlabel('reference HOMO energy [eV]')\n",
    "plt.ylabel('predicted HOMO energy [eV]')\n",
    "plt.show()\n",
    "print(\"R^2 score on test set: %.3f\" % r2_score(y_test, y_pred))"
   ]
  },
  {
   "cell_type": "markdown",
   "id": "6442b854",
   "metadata": {},
   "source": [
    "## Compare your results for CM to Rupp’s. "
   ]
  },
  {
   "cell_type": "code",
   "execution_count": null,
   "id": "1a76fdee",
   "metadata": {},
   "outputs": [],
   "source": []
  },
  {
   "cell_type": "markdown",
   "id": "50a9bc72",
   "metadata": {},
   "source": [
    "## Now use dscribe's implementation of SOAP representation and compare predictions to CM."
   ]
  },
  {
   "cell_type": "code",
   "execution_count": 56,
   "id": "e82b700b",
   "metadata": {},
   "outputs": [],
   "source": [
    "from dscribe.descriptors import SOAP\n",
    "\n",
    "# Setting up the SOAP descriptor\n",
    "soap = SOAP(\n",
    "    species=[\"H\"],\n",
    "    periodic=False,\n",
    "    rcut=5.0,\n",
    "    sigma=0.5,\n",
    "    nmax=3,\n",
    "    lmax=0,\n",
    ")"
   ]
  },
  {
   "cell_type": "code",
   "execution_count": null,
   "id": "052ce332",
   "metadata": {},
   "outputs": [],
   "source": []
  },
  {
   "cell_type": "code",
   "execution_count": null,
   "id": "a2dcca4f",
   "metadata": {},
   "outputs": [],
   "source": []
  },
  {
   "cell_type": "code",
   "execution_count": null,
   "id": "6086ae94",
   "metadata": {},
   "outputs": [],
   "source": []
  }
 ],
 "metadata": {
  "kernelspec": {
   "display_name": "Python 3 (ipykernel)",
   "language": "python",
   "name": "python3"
  },
  "language_info": {
   "codemirror_mode": {
    "name": "ipython",
    "version": 3
   },
   "file_extension": ".py",
   "mimetype": "text/x-python",
   "name": "python",
   "nbconvert_exporter": "python",
   "pygments_lexer": "ipython3",
   "version": "3.9.12"
  }
 },
 "nbformat": 4,
 "nbformat_minor": 5
}
