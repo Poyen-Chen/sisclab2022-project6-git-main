{
 "cells": [
  {
   "cell_type": "markdown",
   "id": "6cb6e5e3-4c16-43f1-b21c-56b0cdc2d268",
   "metadata": {},
   "source": [
    "# Rupp2015"
   ]
  },
  {
   "cell_type": "markdown",
   "id": "b74d2bb6-726d-4481-96c4-948e752687d4",
   "metadata": {},
   "source": [
    "# Data preprocessing"
   ]
  },
  {
   "cell_type": "markdown",
   "id": "03959c88-15dd-4c2d-8d55-ea0c37e65550",
   "metadata": {},
   "source": [
    "## How to browse the local filesystem in Python"
   ]
  },
  {
   "cell_type": "code",
   "execution_count": null,
   "id": "789c3d59-33fd-4a1b-960a-763895edd0cb",
   "metadata": {},
   "outputs": [
    {
     "name": "stdout",
     "output_type": "stream",
     "text": [
      "/Users/wasmer/JupyterHub/sisclab2022-project6-git/work-package-1/meeting02-ml-tutorial/johannes\n"
     ]
    }
   ],
   "source": [
    "# print working directory\n",
    "!pwd"
   ]
  },
  {
   "cell_type": "code",
   "execution_count": 2,
   "id": "436ff945-614e-444b-9cff-79e26d1704d8",
   "metadata": {},
   "outputs": [],
   "source": [
    "# use os.path or pathlib.Path to look around local filesystem for input data file\n",
    "from pathlib import Path"
   ]
  },
  {
   "cell_type": "code",
   "execution_count": 3,
   "id": "33e6ed2b-e493-4bc9-a658-8d7185793698",
   "metadata": {},
   "outputs": [
    {
     "data": {
      "text/plain": [
       "PosixPath('/Users/wasmer/JupyterHub/sisclab2022-project6-git/work-package-1/meeting02-ml-tutorial/johannes')"
      ]
     },
     "execution_count": 3,
     "metadata": {},
     "output_type": "execute_result"
    }
   ],
   "source": [
    "# current working directory\n",
    "Path.cwd()"
   ]
  },
  {
   "cell_type": "code",
   "execution_count": 4,
   "id": "fbb79b56-1066-44f4-a9a3-961a4ebb1097",
   "metadata": {},
   "outputs": [],
   "source": [
    "working_dir = Path.cwd()"
   ]
  },
  {
   "cell_type": "code",
   "execution_count": 65,
   "id": "3982752c-94e2-4530-9a30-54f5207b5230",
   "metadata": {},
   "outputs": [
    {
     "data": {
      "text/plain": [
       "[PosixPath('/Users/wasmer/JupyterHub/sisclab2022-project6-git/work-package-1/meeting02-ml-tutorial/deringer2021-tutorial-material'),\n",
       " PosixPath('/Users/wasmer/JupyterHub/sisclab2022-project6-git/work-package-1/meeting02-ml-tutorial/ilinca'),\n",
       " PosixPath('/Users/wasmer/JupyterHub/sisclab2022-project6-git/work-package-1/meeting02-ml-tutorial/lixia'),\n",
       " PosixPath('/Users/wasmer/JupyterHub/sisclab2022-project6-git/work-package-1/meeting02-ml-tutorial/po-yen'),\n",
       " PosixPath('/Users/wasmer/JupyterHub/sisclab2022-project6-git/work-package-1/meeting02-ml-tutorial/rupp2015-tutorial-material'),\n",
       " PosixPath('/Users/wasmer/JupyterHub/sisclab2022-project6-git/work-package-1/meeting02-ml-tutorial/johannes'),\n",
       " PosixPath('/Users/wasmer/JupyterHub/sisclab2022-project6-git/work-package-1/meeting02-ml-tutorial/.ipynb_checkpoints')]"
      ]
     },
     "execution_count": 65,
     "metadata": {},
     "output_type": "execute_result"
    }
   ],
   "source": [
    "# list all files in parent dir\n",
    "list(working_dir.parent.iterdir())"
   ]
  },
  {
   "cell_type": "code",
   "execution_count": 66,
   "id": "245fc13d-7f84-4a4a-90b3-28db44b5cf4f",
   "metadata": {},
   "outputs": [
    {
     "data": {
      "text/plain": [
       "[PosixPath('/Users/wasmer/JupyterHub/sisclab2022-project6-git/work-package-1/meeting02-ml-tutorial/deringer2021-tutorial-material'),\n",
       " PosixPath('/Users/wasmer/JupyterHub/sisclab2022-project6-git/work-package-1/meeting02-ml-tutorial/ilinca'),\n",
       " PosixPath('/Users/wasmer/JupyterHub/sisclab2022-project6-git/work-package-1/meeting02-ml-tutorial/lixia'),\n",
       " PosixPath('/Users/wasmer/JupyterHub/sisclab2022-project6-git/work-package-1/meeting02-ml-tutorial/po-yen'),\n",
       " PosixPath('/Users/wasmer/JupyterHub/sisclab2022-project6-git/work-package-1/meeting02-ml-tutorial/rupp2015-tutorial-material'),\n",
       " PosixPath('/Users/wasmer/JupyterHub/sisclab2022-project6-git/work-package-1/meeting02-ml-tutorial/johannes'),\n",
       " PosixPath('/Users/wasmer/JupyterHub/sisclab2022-project6-git/work-package-1/meeting02-ml-tutorial/.ipynb_checkpoints'),\n",
       " PosixPath('/Users/wasmer/JupyterHub/sisclab2022-project6-git/work-package-1/meeting02-ml-tutorial/deringer2021-tutorial-material/README.md'),\n",
       " PosixPath('/Users/wasmer/JupyterHub/sisclab2022-project6-git/work-package-1/meeting02-ml-tutorial/deringer2021-tutorial-material/gpr_error'),\n",
       " PosixPath('/Users/wasmer/JupyterHub/sisclab2022-project6-git/work-package-1/meeting02-ml-tutorial/deringer2021-tutorial-material/gpr_toy'),\n",
       " PosixPath('/Users/wasmer/JupyterHub/sisclab2022-project6-git/work-package-1/meeting02-ml-tutorial/deringer2021-tutorial-material/iron'),\n",
       " PosixPath('/Users/wasmer/JupyterHub/sisclab2022-project6-git/work-package-1/meeting02-ml-tutorial/deringer2021-tutorial-material/methane'),\n",
       " PosixPath('/Users/wasmer/JupyterHub/sisclab2022-project6-git/work-package-1/meeting02-ml-tutorial/deringer2021-tutorial-material/qm9'),\n",
       " PosixPath('/Users/wasmer/JupyterHub/sisclab2022-project6-git/work-package-1/meeting02-ml-tutorial/deringer2021-tutorial-material/rad6'),\n",
       " PosixPath('/Users/wasmer/JupyterHub/sisclab2022-project6-git/work-package-1/meeting02-ml-tutorial/deringer2021-tutorial-material/soap_lengths'),\n",
       " PosixPath('/Users/wasmer/JupyterHub/sisclab2022-project6-git/work-package-1/meeting02-ml-tutorial/deringer2021-tutorial-material/water'),\n",
       " PosixPath('/Users/wasmer/JupyterHub/sisclab2022-project6-git/work-package-1/meeting02-ml-tutorial/deringer2021-tutorial-material/gpr_error/fig2a.pdf'),\n",
       " PosixPath('/Users/wasmer/JupyterHub/sisclab2022-project6-git/work-package-1/meeting02-ml-tutorial/deringer2021-tutorial-material/gpr_error/fig2a.py'),\n",
       " PosixPath('/Users/wasmer/JupyterHub/sisclab2022-project6-git/work-package-1/meeting02-ml-tutorial/deringer2021-tutorial-material/gpr_error/fig2a_data.npz'),\n",
       " PosixPath('/Users/wasmer/JupyterHub/sisclab2022-project6-git/work-package-1/meeting02-ml-tutorial/deringer2021-tutorial-material/gpr_error/fig2e.pdf'),\n",
       " PosixPath('/Users/wasmer/JupyterHub/sisclab2022-project6-git/work-package-1/meeting02-ml-tutorial/deringer2021-tutorial-material/gpr_error/fig2e.py'),\n",
       " PosixPath('/Users/wasmer/JupyterHub/sisclab2022-project6-git/work-package-1/meeting02-ml-tutorial/deringer2021-tutorial-material/gpr_error/fig2e_data.npz'),\n",
       " PosixPath('/Users/wasmer/JupyterHub/sisclab2022-project6-git/work-package-1/meeting02-ml-tutorial/deringer2021-tutorial-material/gpr_error/figs.ipynb'),\n",
       " PosixPath('/Users/wasmer/JupyterHub/sisclab2022-project6-git/work-package-1/meeting02-ml-tutorial/deringer2021-tutorial-material/gpr_toy/Chemrev Regression.ipynb'),\n",
       " PosixPath('/Users/wasmer/JupyterHub/sisclab2022-project6-git/work-package-1/meeting02-ml-tutorial/deringer2021-tutorial-material/gpr_toy/gp_basis.pdf'),\n",
       " PosixPath('/Users/wasmer/JupyterHub/sisclab2022-project6-git/work-package-1/meeting02-ml-tutorial/deringer2021-tutorial-material/gpr_toy/gp_learn.pdf'),\n",
       " PosixPath('/Users/wasmer/JupyterHub/sisclab2022-project6-git/work-package-1/meeting02-ml-tutorial/deringer2021-tutorial-material/iron/data_gap.jl'),\n",
       " PosixPath('/Users/wasmer/JupyterHub/sisclab2022-project6-git/work-package-1/meeting02-ml-tutorial/deringer2021-tutorial-material/iron/data_gap.m'),\n",
       " PosixPath('/Users/wasmer/JupyterHub/sisclab2022-project6-git/work-package-1/meeting02-ml-tutorial/deringer2021-tutorial-material/iron/dr_model.m'),\n",
       " PosixPath('/Users/wasmer/JupyterHub/sisclab2022-project6-git/work-package-1/meeting02-ml-tutorial/deringer2021-tutorial-material/iron/iron.pdf'),\n",
       " PosixPath('/Users/wasmer/JupyterHub/sisclab2022-project6-git/work-package-1/meeting02-ml-tutorial/deringer2021-tutorial-material/iron/plotter.m'),\n",
       " PosixPath('/Users/wasmer/JupyterHub/sisclab2022-project6-git/work-package-1/meeting02-ml-tutorial/deringer2021-tutorial-material/methane/me-rigid-shortaug3-pbe0-ts-tsfix-mbd.xyz'),\n",
       " PosixPath('/Users/wasmer/JupyterHub/sisclab2022-project6-git/work-package-1/meeting02-ml-tutorial/deringer2021-tutorial-material/methane/methane_dimer.ipynb'),\n",
       " PosixPath('/Users/wasmer/JupyterHub/sisclab2022-project6-git/work-package-1/meeting02-ml-tutorial/deringer2021-tutorial-material/methane/methane_dimer.pdf'),\n",
       " PosixPath('/Users/wasmer/JupyterHub/sisclab2022-project6-git/work-package-1/meeting02-ml-tutorial/deringer2021-tutorial-material/methane/methane_dimer_inset.pdf'),\n",
       " PosixPath('/Users/wasmer/JupyterHub/sisclab2022-project6-git/work-package-1/meeting02-ml-tutorial/deringer2021-tutorial-material/methane/methane_dimer_lin.pdf'),\n",
       " PosixPath('/Users/wasmer/JupyterHub/sisclab2022-project6-git/work-package-1/meeting02-ml-tutorial/deringer2021-tutorial-material/methane/methane_dimer_log.pdf'),\n",
       " PosixPath('/Users/wasmer/JupyterHub/sisclab2022-project6-git/work-package-1/meeting02-ml-tutorial/deringer2021-tutorial-material/methane/methane_molecules.png'),\n",
       " PosixPath('/Users/wasmer/JupyterHub/sisclab2022-project6-git/work-package-1/meeting02-ml-tutorial/deringer2021-tutorial-material/qm9/NICE-QM9.ipynb'),\n",
       " PosixPath('/Users/wasmer/JupyterHub/sisclab2022-project6-git/work-package-1/meeting02-ml-tutorial/deringer2021-tutorial-material/qm9/qm9-lc-extended.pdf'),\n",
       " PosixPath('/Users/wasmer/JupyterHub/sisclab2022-project6-git/work-package-1/meeting02-ml-tutorial/deringer2021-tutorial-material/rad6/AE.py'),\n",
       " PosixPath('/Users/wasmer/JupyterHub/sisclab2022-project6-git/work-package-1/meeting02-ml-tutorial/deringer2021-tutorial-material/rad6/LearningCurveAE.ipynb'),\n",
       " PosixPath('/Users/wasmer/JupyterHub/sisclab2022-project6-git/work-package-1/meeting02-ml-tutorial/deringer2021-tutorial-material/rad6/rad6.pdf'),\n",
       " PosixPath('/Users/wasmer/JupyterHub/sisclab2022-project6-git/work-package-1/meeting02-ml-tutorial/deringer2021-tutorial-material/soap_lengths/soap_lengths_patrick_rowe_fig.py'),\n",
       " PosixPath('/Users/wasmer/JupyterHub/sisclab2022-project6-git/work-package-1/meeting02-ml-tutorial/deringer2021-tutorial-material/water/chemrev_nuprime-theta-grid_computed.xyz'),\n",
       " PosixPath('/Users/wasmer/JupyterHub/sisclab2022-project6-git/work-package-1/meeting02-ml-tutorial/deringer2021-tutorial-material/water/h2o-exp-theta.pdf'),\n",
       " PosixPath('/Users/wasmer/JupyterHub/sisclab2022-project6-git/work-package-1/meeting02-ml-tutorial/deringer2021-tutorial-material/water/h2o-exp-theta.svg'),\n",
       " PosixPath('/Users/wasmer/JupyterHub/sisclab2022-project6-git/work-package-1/meeting02-ml-tutorial/deringer2021-tutorial-material/water/h2o-gpr-base.pdf'),\n",
       " PosixPath('/Users/wasmer/JupyterHub/sisclab2022-project6-git/work-package-1/meeting02-ml-tutorial/deringer2021-tutorial-material/water/h2o-gpr-base.svg'),\n",
       " PosixPath('/Users/wasmer/JupyterHub/sisclab2022-project6-git/work-package-1/meeting02-ml-tutorial/deringer2021-tutorial-material/water/h2o-gpr.pdf'),\n",
       " PosixPath('/Users/wasmer/JupyterHub/sisclab2022-project6-git/work-package-1/meeting02-ml-tutorial/deringer2021-tutorial-material/water/h2o-gpr.svg'),\n",
       " PosixPath('/Users/wasmer/JupyterHub/sisclab2022-project6-git/work-package-1/meeting02-ml-tutorial/deringer2021-tutorial-material/water/h2o-reg.pdf'),\n",
       " PosixPath('/Users/wasmer/JupyterHub/sisclab2022-project6-git/work-package-1/meeting02-ml-tutorial/deringer2021-tutorial-material/water/h2o-reg.svg'),\n",
       " PosixPath('/Users/wasmer/JupyterHub/sisclab2022-project6-git/work-package-1/meeting02-ml-tutorial/deringer2021-tutorial-material/water/h2o-value.pdf'),\n",
       " PosixPath('/Users/wasmer/JupyterHub/sisclab2022-project6-git/work-package-1/meeting02-ml-tutorial/deringer2021-tutorial-material/water/h2o-value.svg'),\n",
       " PosixPath('/Users/wasmer/JupyterHub/sisclab2022-project6-git/work-package-1/meeting02-ml-tutorial/deringer2021-tutorial-material/water/pswater-ipi.dip_0'),\n",
       " PosixPath('/Users/wasmer/JupyterHub/sisclab2022-project6-git/work-package-1/meeting02-ml-tutorial/deringer2021-tutorial-material/water/pswater-ipi.out'),\n",
       " PosixPath('/Users/wasmer/JupyterHub/sisclab2022-project6-git/work-package-1/meeting02-ml-tutorial/deringer2021-tutorial-material/water/water.ipynb'),\n",
       " PosixPath('/Users/wasmer/JupyterHub/sisclab2022-project6-git/work-package-1/meeting02-ml-tutorial/ilinca/.gitkeep'),\n",
       " PosixPath('/Users/wasmer/JupyterHub/sisclab2022-project6-git/work-package-1/meeting02-ml-tutorial/lixia/.gitkeep'),\n",
       " PosixPath('/Users/wasmer/JupyterHub/sisclab2022-project6-git/work-package-1/meeting02-ml-tutorial/po-yen/.gitkeep'),\n",
       " PosixPath('/Users/wasmer/JupyterHub/sisclab2022-project6-git/work-package-1/meeting02-ml-tutorial/rupp2015-tutorial-material/dsgdb7ae2.xyz'),\n",
       " PosixPath('/Users/wasmer/JupyterHub/sisclab2022-project6-git/work-package-1/meeting02-ml-tutorial/johannes/.ipynb_checkpoints'),\n",
       " PosixPath('/Users/wasmer/JupyterHub/sisclab2022-project6-git/work-package-1/meeting02-ml-tutorial/johannes/rupp2015.ipynb'),\n",
       " PosixPath('/Users/wasmer/JupyterHub/sisclab2022-project6-git/work-package-1/meeting02-ml-tutorial/johannes/.ipynb_checkpoints/rupp2015-checkpoint.ipynb')]"
      ]
     },
     "execution_count": 66,
     "metadata": {},
     "output_type": "execute_result"
    }
   ],
   "source": [
    "# list all files in parent dir, recursively\n",
    "list(working_dir.parent.glob('**/*'))"
   ]
  },
  {
   "cell_type": "code",
   "execution_count": 28,
   "id": "98d092da-ea0f-402c-b6ab-0e9ee4432d46",
   "metadata": {},
   "outputs": [],
   "source": [
    "# okay, found data file\n",
    "datafile_relpath = \"../rupp2015-tutorial-material/dsgdb7ae2.xyz\""
   ]
  },
  {
   "cell_type": "markdown",
   "id": "77c46247-3196-4fdf-8eee-97d1e9feec29",
   "metadata": {},
   "source": [
    "## How to read in a `.xyz` file\n",
    "\n",
    "References:\n",
    "\n",
    "- [Wiki > XYZ file format](https://en.wikipedia.org/wiki/XYZ_file_format)\n",
    "- [ase docs > ase.io](https://wiki.fysik.dtu.dk/ase/ase/io/io.html) > `ase.io.read()` can convert `xyz` files into `ase.Atoms` objects (molecules, crystals)\n",
    "- [ase docs > ase.io > formats > extxyz](https://wiki.fysik.dtu.dk/ase/ase/io/formatoptions.html#extxyz). Extended XYZ format."
   ]
  },
  {
   "cell_type": "code",
   "execution_count": 22,
   "id": "bd76747e-204b-49da-8a08-35e9ff5618aa",
   "metadata": {},
   "outputs": [],
   "source": [
    "import ase.io"
   ]
  },
  {
   "cell_type": "code",
   "execution_count": 42,
   "id": "d269b9ab-c28a-4e60-8226-f5cb5d50e54e",
   "metadata": {},
   "outputs": [],
   "source": [
    "# read in the first two molecules from the xyz file\n",
    "data_test = ase.io.read(filename=datafile_relpath, index=':2')"
   ]
  },
  {
   "cell_type": "code",
   "execution_count": 43,
   "id": "00a00fa3-ac9c-46fb-8410-a07ee57dab6a",
   "metadata": {},
   "outputs": [
    {
     "data": {
      "text/plain": [
       "{'numbers': array([6, 1, 1, 1, 1]),\n",
       " 'positions': array([[ 1.04168, -0.0562 , -0.07148],\n",
       "        [ 2.15109, -0.0562 , -0.0715 ],\n",
       "        [ 0.67187,  0.17923, -1.09059],\n",
       "        [ 0.67188,  0.70866,  0.64196],\n",
       "        [ 0.67188, -1.05649,  0.23421]])}"
      ]
     },
     "execution_count": 43,
     "metadata": {},
     "output_type": "execute_result"
    }
   ],
   "source": [
    "data_test[0].arrays"
   ]
  },
  {
   "cell_type": "code",
   "execution_count": 67,
   "id": "dc361d41-969c-4c60-894a-91fd43189c9a",
   "metadata": {},
   "outputs": [],
   "source": [
    "# compare with xyz file content, by reading as textfile and printing\n",
    "with open(datafile_relpath) as f:\n",
    "    datafile_lines = f.readlines()"
   ]
  },
  {
   "cell_type": "code",
   "execution_count": 41,
   "id": "0967378b-7066-4678-8896-3a44c825229c",
   "metadata": {},
   "outputs": [
    {
     "data": {
      "text/plain": [
       "['5\\n',\n",
       " '0001 -417.031\\n',\n",
       " 'C      1.04168000 -0.05620000 -0.07148000    1.04168200 -0.05620000 -0.07148100\\n',\n",
       " 'H      2.15109000 -0.05620000 -0.07150000    2.13089400 -0.05620200 -0.07149600\\n',\n",
       " 'H      0.67187000  0.17923000 -1.09059000    0.67859800  0.17494100 -1.07204400\\n',\n",
       " 'H      0.67188000  0.70866000  0.64196000    0.67861300  0.69474600  0.62898000\\n',\n",
       " 'H      0.67188000 -1.05649000  0.23421000    0.67861400 -1.03828500  0.22864100\\n',\n",
       " '8\\n',\n",
       " '0002 -711.117\\n',\n",
       " 'C      0.99571000  0.01149000 -0.09922000    0.99591400  0.01151100 -0.09922100\\n',\n",
       " 'C      2.51489000  0.01148000 -0.09922000    2.51468600  0.01146600 -0.09922600\\n',\n",
       " 'H      0.61911000  0.74910000 -0.83887000    0.59725900  0.72987700 -0.81959600\\n',\n",
       " 'H      0.61911000  0.28325000  0.90938000    0.59725900  0.27617000  0.88310600\\n',\n",
       " 'H      0.61909000 -0.99785000 -0.36818000    0.59727800 -0.97153100 -0.36116700\\n',\n",
       " 'H      2.89151000  1.02083000  0.16973000    2.91332200  0.99450900  0.16271900\\n',\n",
       " 'H      2.89149000 -0.26027000 -1.10783000    2.91334100 -0.25319200 -1.08155300\\n',\n",
       " 'H      2.89149000 -0.72612000  0.64042000    2.91334100 -0.70690000  0.62114800\\n',\n",
       " '6\\n',\n",
       " '0003 -563.084\\n',\n",
       " 'C      0.93211000  0.03083000 -0.07433000    0.93612900  0.03083300 -0.07433000\\n']"
      ]
     },
     "execution_count": 41,
     "metadata": {},
     "output_type": "execute_result"
    }
   ],
   "source": [
    "datafile_lines[0:20]    "
   ]
  },
  {
   "cell_type": "markdown",
   "id": "5a69e2ce-ed14-42d2-ab23-0fe3ff8aa2ea",
   "metadata": {},
   "source": [
    "We see that only the force field coordinates were read (first three columns), not the DFT coordinates (last three columns). This is technically an `extxyz` format, but the comment line does not fit that schema (compare reference above). So for now we choose to ignore the DFT coordinates and just go with the force field ones. If the tutorial latter requires to use the DFT coordinates, will either have to figure out how to make `ase.io.extxyz.read()` read this correctly, or to write our own file parser. Shouldn't be so hard."
   ]
  },
  {
   "cell_type": "code",
   "execution_count": 46,
   "id": "7b3219f7-b60b-4cca-9c6e-9c17e9a5deab",
   "metadata": {},
   "outputs": [],
   "source": [
    "# ase puts the comment line, which holds the total energy, into the .info attribute, in string format\n",
    "atoms = data_test[0]"
   ]
  },
  {
   "cell_type": "code",
   "execution_count": 47,
   "id": "e7d5beb3-0890-4ec7-97e3-72c1a8c64d62",
   "metadata": {},
   "outputs": [
    {
     "data": {
      "text/plain": [
       "{'0001': True, '-417.031': True}"
      ]
     },
     "execution_count": 47,
     "metadata": {},
     "output_type": "execute_result"
    }
   ],
   "source": [
    "atoms.info"
   ]
  },
  {
   "cell_type": "code",
   "execution_count": 59,
   "id": "a521d26f-8b40-4dd4-b2cd-78e118d59e36",
   "metadata": {},
   "outputs": [],
   "source": [
    "# okay, read in all ~7000 molecules\n",
    "data_force_field = ase.io.read(filename=datafile_relpath, index=':')"
   ]
  },
  {
   "cell_type": "code",
   "execution_count": 60,
   "id": "512357d0-5b02-423c-bb74-c8c364c44148",
   "metadata": {},
   "outputs": [
    {
     "data": {
      "text/plain": [
       "7102"
      ]
     },
     "execution_count": 60,
     "metadata": {},
     "output_type": "execute_result"
    }
   ],
   "source": [
    "len(data_force_field)"
   ]
  },
  {
   "cell_type": "code",
   "execution_count": 63,
   "id": "147f98a4-e257-4319-8762-b86d00f04504",
   "metadata": {},
   "outputs": [],
   "source": [
    "# extract the total energies, convert to numeric\n",
    "data_total_energies = [float(list(molecule.info)[1]) for molecule in data_force_field]"
   ]
  },
  {
   "cell_type": "code",
   "execution_count": 64,
   "id": "660dc769-7da0-47ab-8f66-467cc8c3bb26",
   "metadata": {},
   "outputs": [
    {
     "data": {
      "text/plain": [
       "-417.031"
      ]
     },
     "execution_count": 64,
     "metadata": {},
     "output_type": "execute_result"
    }
   ],
   "source": [
    "data_total_energies[0]"
   ]
  },
  {
   "cell_type": "code",
   "execution_count": 69,
   "id": "58eb9b03-f212-4a0a-a789-07da336cbbf9",
   "metadata": {},
   "outputs": [],
   "source": [
    "import ase.visualize"
   ]
  },
  {
   "cell_type": "code",
   "execution_count": 75,
   "id": "fed7da5f-f888-4a3c-9099-0c8d82368f45",
   "metadata": {},
   "outputs": [
    {
     "data": {
      "text/html": [
       "<html>\n",
       "\n",
       " <head>\n",
       "\n",
       "  <title>ASE atomic visualization</title>\n",
       "\n",
       "  <link rel=\"stylesheet\" type=\"text/css\"\n",
       "\n",
       "   href=\"https://www.x3dom.org/x3dom/release/x3dom.css\">\n",
       "\n",
       "  </link>\n",
       "\n",
       "  <script type=\"text/javascript\"\n",
       "\n",
       "   src=\"https://www.x3dom.org/x3dom/release/x3dom.js\">\n",
       "\n",
       "  </script>\n",
       "\n",
       " </head>\n",
       "\n",
       " <body>\n",
       "\n",
       "  <X3D>\n",
       "\n",
       "   <Scene>\n",
       "\n",
       "    <Transform translation=\"1.04 -0.06 -0.07\">\n",
       "\n",
       "     <Shape>\n",
       "\n",
       "      <Appearance>\n",
       "\n",
       "       <Material diffuseColor=\"0.565 0.565 0.565\" specularColor=\"0.5 0.5 0.5\">\n",
       "\n",
       "       </Material>\n",
       "\n",
       "      </Appearance>\n",
       "\n",
       "      <Sphere radius=\"0.76\">\n",
       "\n",
       "      </Sphere>\n",
       "\n",
       "     </Shape>\n",
       "\n",
       "    </Transform>\n",
       "\n",
       "    <Transform translation=\"2.15 -0.06 -0.07\">\n",
       "\n",
       "     <Shape>\n",
       "\n",
       "      <Appearance>\n",
       "\n",
       "       <Material diffuseColor=\"1.000 1.000 1.000\" specularColor=\"0.5 0.5 0.5\">\n",
       "\n",
       "       </Material>\n",
       "\n",
       "      </Appearance>\n",
       "\n",
       "      <Sphere radius=\"0.31\">\n",
       "\n",
       "      </Sphere>\n",
       "\n",
       "     </Shape>\n",
       "\n",
       "    </Transform>\n",
       "\n",
       "    <Transform translation=\"0.67 0.18 -1.09\">\n",
       "\n",
       "     <Shape>\n",
       "\n",
       "      <Appearance>\n",
       "\n",
       "       <Material diffuseColor=\"1.000 1.000 1.000\" specularColor=\"0.5 0.5 0.5\">\n",
       "\n",
       "       </Material>\n",
       "\n",
       "      </Appearance>\n",
       "\n",
       "      <Sphere radius=\"0.31\">\n",
       "\n",
       "      </Sphere>\n",
       "\n",
       "     </Shape>\n",
       "\n",
       "    </Transform>\n",
       "\n",
       "    <Transform translation=\"0.67 0.71 0.64\">\n",
       "\n",
       "     <Shape>\n",
       "\n",
       "      <Appearance>\n",
       "\n",
       "       <Material diffuseColor=\"1.000 1.000 1.000\" specularColor=\"0.5 0.5 0.5\">\n",
       "\n",
       "       </Material>\n",
       "\n",
       "      </Appearance>\n",
       "\n",
       "      <Sphere radius=\"0.31\">\n",
       "\n",
       "      </Sphere>\n",
       "\n",
       "     </Shape>\n",
       "\n",
       "    </Transform>\n",
       "\n",
       "    <Transform translation=\"0.67 -1.06 0.23\">\n",
       "\n",
       "     <Shape>\n",
       "\n",
       "      <Appearance>\n",
       "\n",
       "       <Material diffuseColor=\"1.000 1.000 1.000\" specularColor=\"0.5 0.5 0.5\">\n",
       "\n",
       "       </Material>\n",
       "\n",
       "      </Appearance>\n",
       "\n",
       "      <Sphere radius=\"0.31\">\n",
       "\n",
       "      </Sphere>\n",
       "\n",
       "     </Shape>\n",
       "\n",
       "    </Transform>\n",
       "\n",
       "   </Scene>\n",
       "\n",
       "  </X3D>\n",
       "\n",
       " </body>\n",
       "\n",
       "</html>\n",
       "\n"
      ],
      "text/plain": [
       "<IPython.core.display.HTML object>"
      ]
     },
     "execution_count": 75,
     "metadata": {},
     "output_type": "execute_result"
    }
   ],
   "source": [
    "# visualize CH4 atom.\n",
    "#\n",
    "# 'ngl' viewer currently doesn't yet work with ipywidgets>=8.0 which is installed here. \n",
    "# reference https://github.com/nglviewer/nglview/issues/1032\n",
    "ase.visualize.view(atoms, viewer='x3d')"
   ]
  },
  {
   "cell_type": "code",
   "execution_count": null,
   "id": "780e02cd-bb09-449a-82cb-59eefd4f868f",
   "metadata": {},
   "outputs": [],
   "source": []
  }
 ],
 "metadata": {
  "kernelspec": {
   "display_name": "AiiDA",
   "language": "python",
   "name": "aiida"
  },
  "language_info": {
   "codemirror_mode": {
    "name": "ipython",
    "version": 3
   },
   "file_extension": ".py",
   "mimetype": "text/x-python",
   "name": "python",
   "nbconvert_exporter": "python",
   "pygments_lexer": "ipython3",
   "version": "3.8.10"
  }
 },
 "nbformat": 4,
 "nbformat_minor": 5
}
